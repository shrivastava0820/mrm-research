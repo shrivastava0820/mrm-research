{
 "cells": [
  {
   "cell_type": "code",
   "execution_count": null,
   "id": "2a02cec2",
   "metadata": {},
   "outputs": [],
   "source": [
    "import pandas as pd\n",
    "import numpy as np\n",
    "df= pd.read_csv('ml1\\CarPrice_Assignment.csv')\n",
    "df=df.drop(['car_ID',\t'symboling',\t'CarName',\t'fueltype'\t,'aspiration'\t,'doornumber'\t,'carbody'\t,'drivewheel',\t'enginelocation','enginetype',\t'cylindernumber','fuelsystem'],axis=1)"
   ]
  },
  {
   "cell_type": "code",
   "execution_count": null,
   "id": "31a3a64c",
   "metadata": {
    "lines_to_next_cell": 1
   },
   "outputs": [],
   "source": [
    "print(df)\n",
    "X = df.iloc[:,:].values.reshape(-1, 1)\n",
    "y = df['price'].values"
   ]
  },
  {
   "cell_type": "code",
   "execution_count": null,
   "id": "36940430",
   "metadata": {
    "lines_to_next_cell": 1
   },
   "outputs": [],
   "source": [
    "# Linear regression using gradient descent\n",
    "def linear_regression(X, y, learning_rate=0.00000001, iterations=1000) :\n",
    "    w= 0  # Initialize slope\n",
    "    b = 0  # Initialize intercept\n",
    "    n = float(len(X))  # Number of data points\n",
    "\n",
    "    for i in range(iterations):\n",
    "        y_pred = w* X + b  # Predicted value of y\n",
    "        D_w = (-2/n) * sum(X * (y - y_pred))  # Derivative of m\n",
    "        D_b = (-2/n) * sum(y - y_pred)        # Derivative of c\n",
    "        w = w - learning_rate * D_w  # Update m\n",
    "        b = b - learning_rate * D_b  # Update c\n",
    "\n",
    "    return w, b"
   ]
  },
  {
   "cell_type": "code",
   "execution_count": null,
   "id": "1b6d5aa4",
   "metadata": {},
   "outputs": [],
   "source": [
    "# Train the model\n",
    "w, b = linear_regression(X, y)\n",
    "print(f\"Optimal slope (w): {np.round(w,2)}\")\n",
    "print(f\"Optimal intercept (b): {np.round(b,2)}\")"
   ]
  },
  {
   "cell_type": "code",
   "execution_count": null,
   "id": "a535cad7",
   "metadata": {},
   "outputs": [],
   "source": [
    "# Make predictions\n",
    "y_pred = w * X + b"
   ]
  },
  {
   "cell_type": "code",
   "execution_count": null,
   "id": "7890d70c",
   "metadata": {},
   "outputs": [],
   "source": [
    "print(np.round(y_pred,-1))"
   ]
  }
 ],
 "metadata": {
  "jupytext": {
   "cell_metadata_filter": "-all",
   "main_language": "python",
   "notebook_metadata_filter": "-all"
  }
 },
 "nbformat": 4,
 "nbformat_minor": 5
}
